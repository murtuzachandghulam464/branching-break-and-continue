{
 "cells": [
  {
   "cell_type": "markdown",
   "id": "e5185ff6",
   "metadata": {},
   "source": [
    "### Branching(if / elif / else)"
   ]
  },
  {
   "cell_type": "code",
   "execution_count": 54,
   "id": "e7406995",
   "metadata": {},
   "outputs": [
    {
     "name": "stdout",
     "output_type": "stream",
     "text": [
      "First Class\n"
     ]
    }
   ],
   "source": [
    "marks =69\n",
    "if marks >= 60 and marks <=100:\n",
    "    if marks >= 70:\n",
    "        \n",
    "        print('Distinction with first class')\n",
    "    else:\n",
    "        print('First Class')\n",
    "elif marks >=50 and marks <60:\n",
    "    print('Second Class')\n",
    "elif marks >=35 and marks <50:\n",
    "    print('Third class')\n",
    "else:\n",
    "    print('Fail')"
   ]
  },
  {
   "cell_type": "code",
   "execution_count": 55,
   "id": "1f1bafb1",
   "metadata": {},
   "outputs": [
    {
     "name": "stdout",
     "output_type": "stream",
     "text": [
      "Distinction with first class\n"
     ]
    }
   ],
   "source": [
    "marks =82\n",
    "if marks >= 60 and marks <=100:\n",
    "    if marks >= 70:\n",
    "        \n",
    "        print('Distinction with first class')\n",
    "    else:\n",
    "        print('First Class')\n",
    "elif marks >=50 and marks <60:\n",
    "    print('Second Class')\n",
    "elif marks >=35 and marks <50:\n",
    "    print('Third class')\n",
    "elif marks <35 and marks >=0:\n",
    "    print('Fail')\n",
    "else:\n",
    "    print ('something went wrong')"
   ]
  },
  {
   "cell_type": "code",
   "execution_count": 56,
   "id": "9a50062e",
   "metadata": {},
   "outputs": [
    {
     "name": "stdout",
     "output_type": "stream",
     "text": [
      "c is greatest number\n"
     ]
    }
   ],
   "source": [
    "a = 10\n",
    "\n",
    "b = 100\n",
    "\n",
    "c = 120\n",
    "\n",
    "if a > b and a > c :\n",
    "    print ('a is greatest number')\n",
    "elif b > a and b > c :\n",
    "    print ('b is greatest number')\n",
    "else:\n",
    "    print('c is greatest number')\n"
   ]
  },
  {
   "cell_type": "code",
   "execution_count": 57,
   "id": "91d09f19",
   "metadata": {},
   "outputs": [
    {
     "name": "stdout",
     "output_type": "stream",
     "text": [
      "something went wrong\n"
     ]
    }
   ],
   "source": [
    "a = 100\n",
    "\n",
    "b = 100\n",
    "\n",
    "c = 10\n",
    "\n",
    "if a > b and a > c :\n",
    "    print ('a is greatest number')\n",
    "elif b > a and b > c :\n",
    "    print ('b is greatest number')\n",
    "elif c > a and c > b:\n",
    "    print('c is greatest number')\n",
    "else:\n",
    "    print('something went wrong')\n"
   ]
  },
  {
   "cell_type": "code",
   "execution_count": 59,
   "id": "458d12c2",
   "metadata": {},
   "outputs": [
    {
     "name": "stdout",
     "output_type": "stream",
     "text": [
      "Fail\n",
      "Distinction with first class\n",
      "First Class\n",
      "Distinction with first class\n",
      "Third class\n",
      "Third class\n",
      "something went wrong\n",
      "Distinction with first class\n",
      "Distinction with first class\n",
      "Distinction with first class\n",
      "Distinction with first class\n",
      "Distinction with first class\n",
      "First Class\n"
     ]
    }
   ],
   "source": [
    "scores = [25,89,65,82,36,47,205,98,100,80,78,79,65]\n",
    "for marks in scores:\n",
    "    if marks >= 60 and marks <=100:\n",
    "        if marks >= 70:\n",
    "        \n",
    "            print('Distinction with first class')\n",
    "        else:\n",
    "            print('First Class')\n",
    "    elif marks >= 50 and marks < 60:\n",
    "        print('Second Class')\n",
    "    elif marks >=35 and marks <50:\n",
    "        print('Third class')\n",
    "    elif marks <35 and marks >=0:\n",
    "        print('Fail')\n",
    "    else:\n",
    "        print ('something went wrong')"
   ]
  },
  {
   "cell_type": "code",
   "execution_count": 61,
   "id": "cb2f2971",
   "metadata": {},
   "outputs": [
    {
     "name": "stdout",
     "output_type": "stream",
     "text": [
      "Income till date => 100\n",
      "Income till date => 250\n",
      "Income till date => 500\n",
      "Income till date => 1020\n",
      "Income till date => 1500\n",
      "Income till date => 1720\n",
      "Income till date => 2600\n",
      "Income till date => 3800\n",
      "the total weekly income is == >> 3800\n"
     ]
    }
   ],
   "source": [
    "daily_sales = [100,150,250,520,480,220,880,1200]\n",
    "income_till_date = 0\n",
    "for val in daily_sales:\n",
    "    income_till_date = income_till_date + val\n",
    "    print('Income till date =>', income_till_date)\n",
    "print('the total weekly income is == >>',income_till_date)    "
   ]
  },
  {
   "cell_type": "code",
   "execution_count": 3,
   "id": "3af9d33c",
   "metadata": {},
   "outputs": [
    {
     "name": "stdout",
     "output_type": "stream",
     "text": [
      "10\n",
      "20\n",
      "30\n",
      "40\n",
      "50\n",
      "66\n",
      "no items left\n"
     ]
    }
   ],
   "source": [
    "digits = [10,20,30,40,50,66]\n",
    "\n",
    "for i in digits:\n",
    "    print(i)\n",
    "else:\n",
    "    print('no items left')\n",
    "    "
   ]
  },
  {
   "cell_type": "code",
   "execution_count": null,
   "id": "461fc7e6",
   "metadata": {},
   "outputs": [],
   "source": [
    "n = 5\n",
    "sum = 0\n",
    "\n",
    "i = 1\n",
    "while i <= n:\n",
    "    sum = sum + i\n",
    "    i = i + 1\n",
    "    print (sum)\n",
    "    print ('The sum is sum', sum)"
   ]
  },
  {
   "cell_type": "markdown",
   "id": "16ef2cc6",
   "metadata": {},
   "source": [
    "### LIST COMPREHENSION"
   ]
  },
  {
   "cell_type": "code",
   "execution_count": 6,
   "id": "1cfc1d07",
   "metadata": {},
   "outputs": [],
   "source": [
    "# for get the output in list"
   ]
  },
  {
   "cell_type": "code",
   "execution_count": 7,
   "id": "e51fc7a2",
   "metadata": {},
   "outputs": [
    {
     "name": "stdout",
     "output_type": "stream",
     "text": [
      "[18000, 20000, 35000, 45000, 90000]\n"
     ]
    }
   ],
   "source": [
    "sal = [12000,18000,10000,20000,35000,45000,90000]\n",
    "sal = [val for val in sal if val> 15000]\n",
    "print (sal)"
   ]
  },
  {
   "cell_type": "code",
   "execution_count": 1,
   "id": "fb0a5f23",
   "metadata": {},
   "outputs": [
    {
     "name": "stdout",
     "output_type": "stream",
     "text": [
      "1\n",
      "3\n",
      "6\n",
      "10\n",
      "15\n",
      "The sum is 15\n"
     ]
    }
   ],
   "source": [
    "n = 5\n",
    "# initialize sum and counter\n",
    "sum = 0\n",
    "i = 1\n",
    "while i <= n:\n",
    "    sum = sum + i\n",
    "    i = i + 1 # update counter\n",
    "    print(sum)\n",
    "print('The sum is', sum)    "
   ]
  },
  {
   "cell_type": "code",
   "execution_count": 2,
   "id": "35a4ecce",
   "metadata": {},
   "outputs": [
    {
     "name": "stdout",
     "output_type": "stream",
     "text": [
      "17\n",
      "43\n",
      "78\n",
      "122\n",
      "175\n",
      "237\n",
      "308\n",
      "388\n",
      "477\n",
      "575\n",
      "682\n",
      "798\n",
      "923\n",
      "1057\n",
      "1200\n",
      "1352\n",
      "1513\n",
      "1683\n",
      "1862\n",
      "2050\n",
      "2247\n",
      "2453\n",
      "2668\n",
      "2892\n",
      "3125\n",
      "3367\n",
      "3618\n",
      "3878\n",
      "4147\n",
      "4425\n",
      "4712\n",
      "5008\n",
      "5313\n",
      "5627\n",
      "5950\n",
      "6282\n",
      "6623\n",
      "6973\n",
      "The sum is 6973\n"
     ]
    }
   ],
   "source": [
    "# self done\n",
    "n = 350\n",
    "# initialize sum and counter\n",
    "sum = 0\n",
    "i = 17\n",
    "while i <= n:\n",
    "    sum = sum + i\n",
    "    i = i + 9 # update counter\n",
    "    print(sum)\n",
    "print('The sum is', sum)    "
   ]
  },
  {
   "cell_type": "markdown",
   "id": "5c62b970",
   "metadata": {},
   "source": [
    "### FOR LOOP  AND WHILE LOOP"
   ]
  },
  {
   "cell_type": "markdown",
   "id": "afc06656",
   "metadata": {},
   "source": [
    "for loop = when we know how many times the code will be executed,  \n",
    "while loop = When we do not know how many times the code will be executed."
   ]
  },
  {
   "cell_type": "markdown",
   "id": "ff21ce7a",
   "metadata": {},
   "source": [
    "### BREAK AND CONTINUE statement"
   ]
  },
  {
   "cell_type": "markdown",
   "id": "ab57c8ec",
   "metadata": {},
   "source": [
    "the break stop the program when the conditions false\n",
    "but the continue statements continue the over the block yet the condotions false"
   ]
  },
  {
   "cell_type": "markdown",
   "id": "9d14cec6",
   "metadata": {},
   "source": [
    "### break"
   ]
  },
  {
   "cell_type": "code",
   "execution_count": 7,
   "id": "cd2c7aea",
   "metadata": {},
   "outputs": [
    {
     "name": "stdout",
     "output_type": "stream",
     "text": [
      "patna\n",
      "delhi\n",
      "allahabad\n"
     ]
    }
   ],
   "source": [
    "# using break\n",
    "place = ['patna', 'delhi', 'allahabad', 'hyderabad', 'bhopal', 'noida', 'gurgaun']\n",
    "for val in place:\n",
    "    if val == 'hyderabad':\n",
    "        break\n",
    "    print(val)    "
   ]
  },
  {
   "cell_type": "code",
   "execution_count": 14,
   "id": "b45fc4e0",
   "metadata": {},
   "outputs": [
    {
     "name": "stdout",
     "output_type": "stream",
     "text": [
      "12000\n",
      "18000\n",
      "10000\n",
      "20000\n"
     ]
    }
   ],
   "source": [
    "# using break\n",
    "sal = [12000,18000,10000,20000,35000,45000,90000,2500,17000,14000,8000]\n",
    "for val in sal:\n",
    "    if val > 20000:\n",
    "        break\n",
    "    print(val)    "
   ]
  },
  {
   "cell_type": "markdown",
   "id": "78ef3667",
   "metadata": {},
   "source": [
    "### continue"
   ]
  },
  {
   "cell_type": "code",
   "execution_count": 8,
   "id": "41a5dc6b",
   "metadata": {},
   "outputs": [
    {
     "name": "stdout",
     "output_type": "stream",
     "text": [
      "patna\n",
      "delhi\n",
      "allahabad\n",
      "bhopal\n",
      "noida\n",
      "gurgaun\n"
     ]
    }
   ],
   "source": [
    "# using continue\n",
    "place = ['patna', 'delhi', 'allahabad', 'hyderabad', 'bhopal', 'noida', 'gurgaun']\n",
    "for val in place:\n",
    "    if val == 'hyderabad':\n",
    "        continue\n",
    "    print(val)   "
   ]
  },
  {
   "cell_type": "code",
   "execution_count": 13,
   "id": "f7a2564d",
   "metadata": {},
   "outputs": [
    {
     "name": "stdout",
     "output_type": "stream",
     "text": [
      "12000\n",
      "18000\n",
      "10000\n",
      "20000\n",
      "2500\n",
      "17000\n",
      "14000\n",
      "8000\n"
     ]
    }
   ],
   "source": [
    "# using continue\n",
    "sal = [12000,18000,10000,20000,35000,45000,90000,2500,17000,14000,8000]\n",
    "for val in sal:\n",
    "    if val > 20000:\n",
    "        continue\n",
    "    print(val)    "
   ]
  },
  {
   "cell_type": "markdown",
   "id": "2810d591",
   "metadata": {},
   "source": [
    "### The range() function\n",
    "by using this we can generate a sequence.\n",
    "the range function (starting, ending & step size)"
   ]
  },
  {
   "cell_type": "code",
   "execution_count": 20,
   "id": "a1305c09",
   "metadata": {},
   "outputs": [
    {
     "name": "stdout",
     "output_type": "stream",
     "text": [
      "range(0, 10)\n"
     ]
    }
   ],
   "source": [
    "print (range (10)) # only range value is here by deffault starting point added and it's 0"
   ]
  },
  {
   "cell_type": "code",
   "execution_count": 16,
   "id": "834afed1",
   "metadata": {},
   "outputs": [
    {
     "name": "stdout",
     "output_type": "stream",
     "text": [
      "[0, 1, 2, 3, 4, 5, 6, 7, 8, 9]\n"
     ]
    }
   ],
   "source": [
    "print(list(range(10))) "
   ]
  },
  {
   "cell_type": "code",
   "execution_count": 21,
   "id": "e89afda7",
   "metadata": {},
   "outputs": [
    {
     "name": "stdout",
     "output_type": "stream",
     "text": [
      "[1, 2, 3, 4, 5, 6, 7, 8, 9]\n"
     ]
    }
   ],
   "source": [
    "print(list(range(1,10))) # here [starting point(included) & ending point(excluded)]"
   ]
  },
  {
   "cell_type": "code",
   "execution_count": 22,
   "id": "d12568de",
   "metadata": {},
   "outputs": [
    {
     "name": "stdout",
     "output_type": "stream",
     "text": [
      "[0, 5, 10, 15, 20, 25, 30, 35, 40, 45]\n"
     ]
    }
   ],
   "source": [
    "print(list(range(0,50,5))) # here (starting point=0, end point=50 & range=5)"
   ]
  },
  {
   "cell_type": "code",
   "execution_count": 23,
   "id": "99df9945",
   "metadata": {},
   "outputs": [],
   "source": [
    "increment = range(2,57,3)"
   ]
  },
  {
   "cell_type": "code",
   "execution_count": 25,
   "id": "2cdfc7e2",
   "metadata": {},
   "outputs": [
    {
     "data": {
      "text/plain": [
       "range(2, 57, 3)"
      ]
     },
     "execution_count": 25,
     "metadata": {},
     "output_type": "execute_result"
    }
   ],
   "source": [
    "increment"
   ]
  },
  {
   "cell_type": "markdown",
   "id": "fd8fcd10",
   "metadata": {},
   "source": [
    "To find the list in decending order take the negative range value"
   ]
  },
  {
   "cell_type": "code",
   "execution_count": 32,
   "id": "edbe253b",
   "metadata": {},
   "outputs": [],
   "source": [
    "reverse = list(range(100,22,-5)) "
   ]
  },
  {
   "cell_type": "code",
   "execution_count": 33,
   "id": "96814f09",
   "metadata": {},
   "outputs": [
    {
     "data": {
      "text/plain": [
       "[100, 95, 90, 85, 80, 75, 70, 65, 60, 55, 50, 45, 40, 35, 30, 25]"
      ]
     },
     "execution_count": 33,
     "metadata": {},
     "output_type": "execute_result"
    }
   ],
   "source": [
    "reverse"
   ]
  },
  {
   "cell_type": "code",
   "execution_count": null,
   "id": "7bb8bdaf",
   "metadata": {},
   "outputs": [],
   "source": []
  }
 ],
 "metadata": {
  "kernelspec": {
   "display_name": "Python 3 (ipykernel)",
   "language": "python",
   "name": "python3"
  },
  "language_info": {
   "codemirror_mode": {
    "name": "ipython",
    "version": 3
   },
   "file_extension": ".py",
   "mimetype": "text/x-python",
   "name": "python",
   "nbconvert_exporter": "python",
   "pygments_lexer": "ipython3",
   "version": "3.9.7"
  }
 },
 "nbformat": 4,
 "nbformat_minor": 5
}
